{
 "cells": [
  {
   "cell_type": "markdown",
   "metadata": {},
   "source": [
    "# <font color='red'>Introduction to NLP</font>  \n",
    "Text processing\n",
    "\n",
    "Text data is text data, it's not number. You can't use ML on \n",
    "\n",
    "First: you have to find a numerical representations of your text.  \n",
    "What is a good numerical representation ? -> It is a representation which carry the meaning of the text.\n",
    "\n",
    "<font color='green'>ex of bad one</font>: one hot encoding\n",
    "\"chicken\"=[1,0,0,0,0,0]\n",
    "\"beef\"=[0,1,0,0,0,0]  \n",
    "<chicken|beef>=0 => bad :(\n",
    "\n",
    "Better word representation: Word2Vec  \n",
    "-> (computed with neural network)\n",
    "V(\"Queen\")-V(\"King\")+V(\"Women\") = V(\"Man\")\n",
    "\n",
    "Doc representations:  \n",
    "* TFIDF Represent doc as vector \n",
    "\n",
    "<font color='red'>Important rq</font> You have also a preprocessing step to do.   \n",
    "-> Tokenisation  \n",
    "-> Lemmalization | Stemming\n",
    "-> Removing Stopwords\n",
    "\n",
    "Use case:  \n",
    "* Sentiment analysis for customer satisfaction\n",
    "* NLP for legal doc CHATBOTS\n",
    "\n",
    "=> Spacy"
   ]
  }
 ],
 "metadata": {
  "kernelspec": {
   "display_name": "Python 3",
   "language": "python",
   "name": "python3"
  },
  "language_info": {
   "codemirror_mode": {
    "name": "ipython",
    "version": 3
   },
   "file_extension": ".py",
   "mimetype": "text/x-python",
   "name": "python",
   "nbconvert_exporter": "python",
   "pygments_lexer": "ipython3",
   "version": "3.7.1"
  }
 },
 "nbformat": 4,
 "nbformat_minor": 2
}
