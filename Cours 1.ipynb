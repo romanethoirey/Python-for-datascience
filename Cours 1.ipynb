{
 "cells": [
  {
   "cell_type": "markdown",
   "metadata": {},
   "source": [
    "# Python for Data Science - Cours 1"
   ]
  },
  {
   "cell_type": "markdown",
   "metadata": {},
   "source": [
    "\n"
   ]
  },
  {
   "cell_type": "markdown",
   "metadata": {},
   "source": [
    "Clustering -> partionnement des données [clustering de données](https://www.google.com/search?q=clustering&hl=fr&sxsrf=ACYBGNT12M0fMzemgxD4zjX3xXyH8O8cGA:1568270898156&source=lnms&tbm=isch&sa=X&ved=0ahUKEwjW-a6u2MrkAhWoxYUKHQmLDhgQ_AUIFSgE&biw=1440&bih=688).\n",
    "\n",
    "Elle vise à diviser un ensemble de données en différents « paquets » homogènes, en ce sens que les données de chaque sous-ensemble partagent des caractéristiques communes, qui correspondent le plus souvent à des critères de proximité (similarité informatique) que l'on définit en introduisant des mesures et classes de distance entre objets."
   ]
  },
  {
   "cell_type": "markdown",
   "metadata": {},
   "source": [
    "### Trouver un use case pour le ML dans un domaine"
   ]
  },
  {
   "cell_type": "markdown",
   "metadata": {},
   "source": [
    "| Application | Data | KPI/Am | Diff\n",
    "| --- | --- | --- | --- |\n",
    "| Generation du parole au karaoké | Sound Vidéo | _ | _ |\n",
    "| Génération de photo/face | Photo | _ | _ |\n",
    "| Email filtering | Text | % des spams détectés | 2-3 |\n",
    "| Automatic traduction | Text | _ | 4 |\n",
    "| Generer design system (materials/solar panels) | Tabular data | _ | 4 |\n",
    "| Customer changing | _ | _ | _ | \n",
    "| Maintenance prédictive | Tabular data | _ | _ |\n",
    "| Fraud détection | _ | _ | _ | "
   ]
  },
  {
   "cell_type": "markdown",
   "metadata": {},
   "source": [
    "Erreur = prédiction - réalité\n",
    "\n",
    "ML = trouver des fonctions en minimisant ses erreurs\n",
    "\n",
    "**Gradient descendant** utilise le minimum d'une fonction\n",
    "\n",
    "**Generalisation overfilling** = apprendre par coeur "
   ]
  },
  {
   "cell_type": "code",
   "execution_count": null,
   "metadata": {},
   "outputs": [],
   "source": []
  }
 ],
 "metadata": {
  "kernelspec": {
   "display_name": "Python 3",
   "language": "python",
   "name": "python3"
  },
  "language_info": {
   "codemirror_mode": {
    "name": "ipython",
    "version": 3
   },
   "file_extension": ".py",
   "mimetype": "text/x-python",
   "name": "python",
   "nbconvert_exporter": "python",
   "pygments_lexer": "ipython3",
   "version": "3.7.1"
  }
 },
 "nbformat": 4,
 "nbformat_minor": 2
}
