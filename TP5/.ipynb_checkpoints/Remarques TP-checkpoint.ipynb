{
 "cells": [
  {
   "cell_type": "markdown",
   "metadata": {},
   "source": [
    "# <font color='red'>Intro computer vision </font>\n",
    "\n",
    "Computer science field. The goal is to give machines the sense of sight (to be able to see). Related to Image Processing and also video. Old field -> Has been revolutionized by deep learning.\n",
    "\n",
    "What is an image ?  \n",
    "For computers : array of value (black and white image 2D matrix/array, colored image 3D array). Arrays contain the pixel intensities\n",
    "\n",
    "Tools:  \n",
    "- openCV (C/C++ lib) python Bidings\n",
    "- scikit image\n",
    "- pillow \n",
    "\n",
    "### What are convultions ?\n",
    "\n",
    "Like rolling mean in 2D.  \n",
    "You want to compute a locale weighted average.  \n",
    "Weighted average = $\\frac{1}{9}$ (w<sub>1</sub>P<sub>2,2</sub> + w<sub>2</sub>P<sub>2,3</sub> + w<sub>3</sub>P<sub>2,4</sub> + w<sub>5</sub>P<sub>3,2</sub> + ...)\n",
    "\n",
    "$$\\mathbf{Weights} = \\left[\\begin{array}\n",
    "{rrr}\n",
    "W_{1} & W_{2} & W_{3} \\\\\n",
    "W_{4} & W_{5} & W_{6} \\\\\n",
    "W_{7} & W_{8} & W_{9}\n",
    "\\end{array}\\right]\n",
    "$$\n",
    "\n",
    "Convolutions : compute the weighted average of all windows in the img\n",
    "\n",
    "\n",
    "### Deep Learnig  \n",
    "Sub field of ML. DL = models with a lot of parameters.  \n",
    "Model = functions. X -> f<sub>$\\theta$</sub> -> $\\hat{Y}$ (predictions)\n",
    "\n",
    "$\\hat{Y}$<sub>DL</sub> = f<sub>$\\theta$</sub>(X) = very complicated \n",
    "\n",
    "Nerone (mathematical one) = function = small model\n",
    "\n",
    "The NonLinear function is called = activation function  \n",
    "<font color = 'green'>ex </font> ReLU (rectified linear unit)  \n",
    "ReLU(X) = $\\max(0,x)$\n",
    "\n",
    "#### Convonutional neural network  \n",
    "basic idea : each neurone is a convulution + non linear function\n",
    "\n",
    "s<sub>conv</sub> = ReLU(Conv<sub>$\\theta$</sub>(x))  \n",
    "The weights of the filter are the parameters of the model"
   ]
  }
 ],
 "metadata": {
  "kernelspec": {
   "display_name": "Python 3",
   "language": "python",
   "name": "python3"
  },
  "language_info": {
   "codemirror_mode": {
    "name": "ipython",
    "version": 3
   },
   "file_extension": ".py",
   "mimetype": "text/x-python",
   "name": "python",
   "nbconvert_exporter": "python",
   "pygments_lexer": "ipython3",
   "version": "3.7.1"
  }
 },
 "nbformat": 4,
 "nbformat_minor": 2
}
