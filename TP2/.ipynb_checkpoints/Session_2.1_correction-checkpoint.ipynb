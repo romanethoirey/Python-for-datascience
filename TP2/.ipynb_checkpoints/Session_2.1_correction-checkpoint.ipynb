{
 "cells": [
  {
   "cell_type": "markdown",
   "metadata": {},
   "source": [
    "## Files and OS "
   ]
  },
  {
   "cell_type": "markdown",
   "metadata": {},
   "source": [
    "With the os package find the method to list the files in a given directory and list the files in the current directory"
   ]
  },
  {
   "cell_type": "code",
   "execution_count": 6,
   "metadata": {},
   "outputs": [
    {
     "data": {
      "text/plain": [
       "['.git', '.gitignore', 'models', 'src', 'web_service.py']"
      ]
     },
     "execution_count": 6,
     "metadata": {},
     "output_type": "execute_result"
    }
   ],
   "source": [
    "import os\n",
    "\n",
    "os.listdir(r'c:\\dev\\automalie')"
   ]
  },
  {
   "cell_type": "markdown",
   "metadata": {},
   "source": [
    "Create a new directory named \"test\" with the os package"
   ]
  },
  {
   "cell_type": "code",
   "execution_count": 12,
   "metadata": {},
   "outputs": [],
   "source": [
    "os.makedirs(r'c:\\test44\\test33\\test22')"
   ]
  },
  {
   "cell_type": "markdown",
   "metadata": {},
   "source": [
    "From a text editor, Create a file name test.py with the following code : \n",
    "```python\n",
    "name = \"blabla\"\n",
    "print('hello {}'.format(name))\n",
    "```\n",
    "Put it in the test folder. \n",
    "Run it from the command line\n"
   ]
  },
  {
   "cell_type": "code",
   "execution_count": null,
   "metadata": {},
   "outputs": [],
   "source": []
  },
  {
   "cell_type": "markdown",
   "metadata": {},
   "source": [
    "Display the python path with the sys module "
   ]
  },
  {
   "cell_type": "code",
   "execution_count": 13,
   "metadata": {},
   "outputs": [
    {
     "name": "stdout",
     "output_type": "stream",
     "text": [
      "['c:\\\\users\\\\utilisateur\\\\appdata\\\\local\\\\programs\\\\python\\\\python36\\\\python36.zip', 'c:\\\\users\\\\utilisateur\\\\appdata\\\\local\\\\programs\\\\python\\\\python36\\\\DLLs', 'c:\\\\users\\\\utilisateur\\\\appdata\\\\local\\\\programs\\\\python\\\\python36\\\\lib', 'c:\\\\users\\\\utilisateur\\\\appdata\\\\local\\\\programs\\\\python\\\\python36', '', 'c:\\\\users\\\\utilisateur\\\\appdata\\\\local\\\\programs\\\\python\\\\python36\\\\lib\\\\site-packages', 'c:\\\\users\\\\utilisateur\\\\appdata\\\\local\\\\programs\\\\python\\\\python36\\\\lib\\\\site-packages\\\\IPython\\\\extensions', 'C:\\\\Users\\\\Utilisateur\\\\.ipython']\n"
     ]
    }
   ],
   "source": [
    "import sys\n",
    "\n",
    "print(sys.path)"
   ]
  },
  {
   "cell_type": "markdown",
   "metadata": {},
   "source": [
    "What is the python path ? "
   ]
  },
  {
   "cell_type": "code",
   "execution_count": null,
   "metadata": {},
   "outputs": [],
   "source": []
  },
  {
   "cell_type": "markdown",
   "metadata": {},
   "source": [
    "Where are located the files of modules like Pandas, numpy and so on ? "
   ]
  },
  {
   "cell_type": "markdown",
   "metadata": {},
   "source": [
    "c:\\\\users\\\\utilisateur\\\\appdata\\\\local\\\\programs\\\\python\\\\python36\\\\lib\\\\site-packages"
   ]
  },
  {
   "cell_type": "markdown",
   "metadata": {},
   "source": [
    "In a terminal run the command pip freeze, what does it do ? "
   ]
  },
  {
   "cell_type": "markdown",
   "metadata": {},
   "source": []
  },
  {
   "cell_type": "markdown",
   "metadata": {},
   "source": []
  },
  {
   "cell_type": "markdown",
   "metadata": {},
   "source": [
    "## Contexts and handling files"
   ]
  },
  {
   "cell_type": "markdown",
   "metadata": {},
   "source": [
    "What are contexts in python ? "
   ]
  },
  {
   "cell_type": "code",
   "execution_count": null,
   "metadata": {},
   "outputs": [],
   "source": []
  },
  {
   "cell_type": "markdown",
   "metadata": {},
   "source": [
    "Using python, the \"with\" and the open function, open the file \"test.py\" and load it as a string. Put it in a variable"
   ]
  },
  {
   "cell_type": "code",
   "execution_count": 17,
   "metadata": {},
   "outputs": [
    {
     "name": "stdout",
     "output_type": "stream",
     "text": [
      "name = \"blabla\"\n",
      "print('hello {}'.format(name))\n",
      "name = \"blabla\"\n",
      "print('hello {}'.format(name))\n"
     ]
    }
   ],
   "source": [
    "\n",
    "# with context\n",
    "#without context\n",
    "f = open('test33/test.py', 'r')\n",
    "t = f.read()\n",
    "print(t)\n",
    "f.close()\n",
    "\n",
    "\n",
    "with open('test33/test.py', 'r') as f:\n",
    "    t = f.read()\n",
    "    print(t)\n",
    "    \n"
   ]
  },
  {
   "cell_type": "markdown",
   "metadata": {},
   "source": [
    "modify the string and add \"print('hello again')\" and save the file to the disk. Check with an editor that it has been modified"
   ]
  },
  {
   "cell_type": "code",
   "execution_count": 22,
   "metadata": {},
   "outputs": [],
   "source": [
    "with open('test33/test.py', 'a') as f:\n",
    "    f.write('\\nprint(\"hello again\")')"
   ]
  },
  {
   "cell_type": "markdown",
   "metadata": {},
   "source": [
    "You can also load the file as a list of string (one row = one element of the list). Load with the good method the file into a list"
   ]
  },
  {
   "cell_type": "code",
   "execution_count": 24,
   "metadata": {},
   "outputs": [
    {
     "name": "stdout",
     "output_type": "stream",
     "text": [
      "['name = \"blabla\"\\n', 'print(\\'hello {}\\'.format(name))print(\"hello again\")\\n', 'print(\"hello again\")\\n', 'print(\"hello again\")\\n', 'print(\"hello again\")']\n"
     ]
    }
   ],
   "source": [
    "with open('test33/test.py', 'r') as f:\n",
    "    t = f.readlines()\n",
    "    \n",
    "print(t)"
   ]
  },
  {
   "cell_type": "markdown",
   "metadata": {},
   "source": [
    "## List come back : list comprehensions"
   ]
  },
  {
   "cell_type": "markdown",
   "metadata": {},
   "source": [
    "Execute the folowing code and print the variable a and its type ? "
   ]
  },
  {
   "cell_type": "code",
   "execution_count": 26,
   "metadata": {},
   "outputs": [
    {
     "name": "stdout",
     "output_type": "stream",
     "text": [
      "[0, 1, 4, 9, 16, 25, 36, 49, 64, 81]\n"
     ]
    }
   ],
   "source": [
    "a = [ v ** 2 for v in range(10)]\n",
    "print(a)"
   ]
  },
  {
   "cell_type": "markdown",
   "metadata": {},
   "source": [
    "This synthax is called list comprehension and is a very convenient way to create a list from a for loop. create a list l with the values [-1, 2, -10, 52, 3]"
   ]
  },
  {
   "cell_type": "code",
   "execution_count": 27,
   "metadata": {},
   "outputs": [],
   "source": [
    "l = [-1, 2, -10, 52, 3]\n"
   ]
  },
  {
   "cell_type": "markdown",
   "metadata": {},
   "source": [
    "With a compression list, create a list l2 which multiplies all values of l by 2 and store it in l2"
   ]
  },
  {
   "cell_type": "code",
   "execution_count": 28,
   "metadata": {},
   "outputs": [
    {
     "data": {
      "text/plain": [
       "[-2, 4, -20, 104, 6]"
      ]
     },
     "execution_count": 28,
     "metadata": {},
     "output_type": "execute_result"
    }
   ],
   "source": [
    "l2 = [v * 2 for v in l]\n",
    "l2"
   ]
  },
  {
   "cell_type": "markdown",
   "metadata": {},
   "source": [
    "Look on the internet how to include \"ifs\" in list comprehension. Do the same as before but only if the value of l1 is positive"
   ]
  },
  {
   "cell_type": "code",
   "execution_count": 29,
   "metadata": {},
   "outputs": [
    {
     "data": {
      "text/plain": [
       "[4, 104, 6]"
      ]
     },
     "execution_count": 29,
     "metadata": {},
     "output_type": "execute_result"
    }
   ],
   "source": [
    "l3 = [v * 2 for v in l if v >= 0]\n",
    "l3"
   ]
  },
  {
   "cell_type": "markdown",
   "metadata": {},
   "source": [
    "## Introduction to OOP \n",
    "\n",
    "Python is a multiparadigm language and supports OOP. Create a class Person with a constructor method allowing to pass the name of the person. The life point should have default 100"
   ]
  },
  {
   "cell_type": "code",
   "execution_count": 35,
   "metadata": {},
   "outputs": [],
   "source": [
    "class Person():\n",
    "    def __init__(self, name):\n",
    "        self.name = name\n",
    "        self.life = 100\n",
    "        \n",
    "    def lost_life(self, amount):\n",
    "        self.life -= amount\n",
    "        \n",
    "    def hit(self, person):\n",
    "        person.lost_life(10)\n",
    "        \n",
    "    def is_dead(self):\n",
    "        return self.life <= 0\n",
    "    "
   ]
  },
  {
   "cell_type": "markdown",
   "metadata": {},
   "source": [
    "Create a first person named \"john\" and 100 life point"
   ]
  },
  {
   "cell_type": "code",
   "execution_count": 36,
   "metadata": {},
   "outputs": [
    {
     "data": {
      "text/plain": [
       "100"
      ]
     },
     "execution_count": 36,
     "metadata": {},
     "output_type": "execute_result"
    }
   ],
   "source": [
    "p1 = Person('john')\n",
    "p1.life"
   ]
  },
  {
   "cell_type": "markdown",
   "metadata": {},
   "source": [
    "Add a method hit(person), the person being hit should lose 10 life point"
   ]
  },
  {
   "cell_type": "code",
   "execution_count": 39,
   "metadata": {},
   "outputs": [
    {
     "data": {
      "text/plain": [
       "-20"
      ]
     },
     "execution_count": 39,
     "metadata": {},
     "output_type": "execute_result"
    }
   ],
   "source": [
    "p2 = Person('Cedric')\n",
    "p2.hit(p1)\n",
    "p2.hit(p1)\n",
    "p2.hit(p1)\n",
    "p2.hit(p1)\n",
    "p2.hit(p1)\n",
    "p2.hit(p1)\n",
    "p2.hit(p1)\n",
    "p2.hit(p1)\n",
    "p2.hit(p1)\n",
    "p2.hit(p1)\n",
    "p2.hit(p1)\n",
    "\n",
    "p1.life"
   ]
  },
  {
   "cell_type": "markdown",
   "metadata": {},
   "source": [
    "Create two personns and make one hit another one. Check that the life point of the person being hit has been lowered by 10"
   ]
  },
  {
   "cell_type": "code",
   "execution_count": 40,
   "metadata": {},
   "outputs": [
    {
     "data": {
      "text/plain": [
       "True"
      ]
     },
     "execution_count": 40,
     "metadata": {},
     "output_type": "execute_result"
    }
   ],
   "source": [
    "p1.is_dead()"
   ]
  },
  {
   "cell_type": "markdown",
   "metadata": {},
   "source": [
    "define a method is_dead() which returns True if the life point are below 0 and False otherwise"
   ]
  },
  {
   "cell_type": "code",
   "execution_count": null,
   "metadata": {},
   "outputs": [],
   "source": []
  },
  {
   "cell_type": "markdown",
   "metadata": {},
   "source": [
    "Create a Wizard class which inherits from persons. The life point of wizard should be 80.\n",
    "\n",
    "Override the method hit(person) so that its damage are 15"
   ]
  },
  {
   "cell_type": "code",
   "execution_count": 44,
   "metadata": {},
   "outputs": [
    {
     "data": {
      "text/plain": [
       "85"
      ]
     },
     "execution_count": 44,
     "metadata": {},
     "output_type": "execute_result"
    }
   ],
   "source": [
    "class Wizard(Person):\n",
    "    \n",
    "    def __init__(self, name):\n",
    "        \n",
    "        super(Wizard, self).__init__(name)\n",
    "        self.life = 80\n",
    "        \n",
    "    def hit(self, person):\n",
    "        \n",
    "        person.lost_life(15)\n",
    "        \n",
    "w = Wizard('Gandal')\n",
    "w.life\n",
    "\n",
    "w.hit(p2)\n",
    "p2.life"
   ]
  },
  {
   "cell_type": "markdown",
   "metadata": {},
   "source": []
  }
 ],
 "metadata": {
  "kernelspec": {
   "display_name": "Python 3",
   "language": "python",
   "name": "python3"
  },
  "language_info": {
   "codemirror_mode": {
    "name": "ipython",
    "version": 3
   },
   "file_extension": ".py",
   "mimetype": "text/x-python",
   "name": "python",
   "nbconvert_exporter": "python",
   "pygments_lexer": "ipython3",
   "version": "3.7.1"
  }
 },
 "nbformat": 4,
 "nbformat_minor": 2
}
