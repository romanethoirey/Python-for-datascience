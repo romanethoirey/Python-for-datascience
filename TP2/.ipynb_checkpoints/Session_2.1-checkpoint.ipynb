{
 "cells": [
  {
   "cell_type": "markdown",
   "metadata": {},
   "source": [
    "## Files and OS "
   ]
  },
  {
   "cell_type": "markdown",
   "metadata": {},
   "source": [
    "With the os package find the method to list the files in a given directory and list the files in the current directory"
   ]
  },
  {
   "cell_type": "code",
   "execution_count": 1,
   "metadata": {},
   "outputs": [
    {
     "name": "stdout",
     "output_type": "stream",
     "text": [
      "Session_2.1.ipynb\r\n"
     ]
    }
   ],
   "source": [
    "ls"
   ]
  },
  {
   "cell_type": "markdown",
   "metadata": {},
   "source": [
    "Create a new directory named \"test\" with the os package"
   ]
  },
  {
   "cell_type": "code",
   "execution_count": 2,
   "metadata": {},
   "outputs": [],
   "source": [
    "mkdir test"
   ]
  },
  {
   "cell_type": "markdown",
   "metadata": {},
   "source": [
    "From a text editor, Create a file name test.py with the following code : \n",
    "```python\n",
    "name = \"blabla\"\n",
    "print('hello {}'.format(name))\n",
    "```\n",
    "Put it in the test folder. \n",
    "Run it from the command line\n"
   ]
  },
  {
   "cell_type": "code",
   "execution_count": 7,
   "metadata": {},
   "outputs": [
    {
     "name": "stdout",
     "output_type": "stream",
     "text": [
      "hello blabla\n"
     ]
    }
   ],
   "source": [
    "run test/test.py"
   ]
  },
  {
   "cell_type": "markdown",
   "metadata": {},
   "source": [
    "Display the python path with the sys module "
   ]
  },
  {
   "cell_type": "code",
   "execution_count": 8,
   "metadata": {},
   "outputs": [
    {
     "name": "stdout",
     "output_type": "stream",
     "text": [
      "['/Users/romane/Documents/EFREI/Python for Datascience/TP2', '/Users/romane/anaconda3/lib/python37.zip', '/Users/romane/anaconda3/lib/python3.7', '/Users/romane/anaconda3/lib/python3.7/lib-dynload', '', '/Users/romane/.local/lib/python3.7/site-packages', '/Users/romane/anaconda3/lib/python3.7/site-packages', '/Users/romane/anaconda3/lib/python3.7/site-packages/aeosa', '/Users/romane/anaconda3/lib/python3.7/site-packages/IPython/extensions', '/Users/romane/.ipython']\n"
     ]
    }
   ],
   "source": [
    "import sys\n",
    "print(sys.path)"
   ]
  },
  {
   "cell_type": "markdown",
   "metadata": {},
   "source": [
    "What is the python path ? "
   ]
  },
  {
   "cell_type": "markdown",
   "metadata": {},
   "source": []
  },
  {
   "cell_type": "markdown",
   "metadata": {},
   "source": [
    "Where are located the files of modules like Pandas, numpy and so on ? "
   ]
  },
  {
   "cell_type": "markdown",
   "metadata": {},
   "source": []
  },
  {
   "cell_type": "markdown",
   "metadata": {},
   "source": [
    "In a terminal run the command pip freeze, what does it do ? "
   ]
  },
  {
   "cell_type": "markdown",
   "metadata": {},
   "source": [
    "installed packages in requirements format"
   ]
  },
  {
   "cell_type": "markdown",
   "metadata": {},
   "source": [
    "## Contexts and handling files"
   ]
  },
  {
   "cell_type": "markdown",
   "metadata": {},
   "source": [
    "What are contexts in python ? "
   ]
  },
  {
   "cell_type": "markdown",
   "metadata": {},
   "source": [
    "Un context manager est une classe ordinaire en Python. Sa seule spécificité est de déclarer une méthode __enter__() et une méthode __exit__(). Ces méthodes sont des méthodes ordinaires, leur nom spécial est juste là par convention, et en les nommant ainsi on s’assure qu’elles seront détectées et utilisées automatiquement."
   ]
  },
  {
   "cell_type": "markdown",
   "metadata": {},
   "source": [
    "Using python, the \"with\" and the open function, open the file \"test.py\" and load it as a string. Put it in a variable"
   ]
  },
  {
   "cell_type": "code",
   "execution_count": 30,
   "metadata": {},
   "outputs": [
    {
     "name": "stdout",
     "output_type": "stream",
     "text": [
      "blabla Hello\n",
      "Hello again\n"
     ]
    }
   ],
   "source": [
    "with open('test/test.py', 'r') as test:\n",
    "    string = exec(test.read())\n",
    "string"
   ]
  },
  {
   "cell_type": "markdown",
   "metadata": {},
   "source": [
    "modify the string and add \"print('hello again')\" and save the file to the disk. Check with an editor that it has been modified"
   ]
  },
  {
   "cell_type": "code",
   "execution_count": 28,
   "metadata": {},
   "outputs": [],
   "source": [
    "with open('test/test.py', 'a') as file:\n",
    "    file.write(\"\\nprint('Hello again')\\n\")\n",
    "    file.close()"
   ]
  },
  {
   "cell_type": "markdown",
   "metadata": {},
   "source": [
    "You can also load the file as a list of string (one row = one element of the list). Load with the good method the file into a list"
   ]
  },
  {
   "cell_type": "code",
   "execution_count": 34,
   "metadata": {},
   "outputs": [
    {
     "data": {
      "text/plain": [
       "[\"print('blabla Hello')\", \"print('Hello again')\"]"
      ]
     },
     "execution_count": 34,
     "metadata": {},
     "output_type": "execute_result"
    }
   ],
   "source": [
    "with open('test/test.py') as f:\n",
    "    lines = f.read().splitlines()\n",
    "lines"
   ]
  },
  {
   "cell_type": "markdown",
   "metadata": {},
   "source": [
    "## List come back : list comprehensions"
   ]
  },
  {
   "cell_type": "markdown",
   "metadata": {},
   "source": [
    "Execute the folowing code and print the variable a and its type ? "
   ]
  },
  {
   "cell_type": "code",
   "execution_count": 36,
   "metadata": {},
   "outputs": [
    {
     "name": "stdout",
     "output_type": "stream",
     "text": [
      "[0, 1, 4, 9, 16, 25, 36, 49, 64, 81] <class 'list'>\n"
     ]
    }
   ],
   "source": [
    "a = [ v ** 2 for v in range(10)]\n",
    "print(a, type(a))"
   ]
  },
  {
   "cell_type": "markdown",
   "metadata": {},
   "source": [
    "This synthax is called list comprehension and is a very convenient way to create a list from a for loop. create a list l with the values [-1, 2, -10, 52, 3]"
   ]
  },
  {
   "cell_type": "code",
   "execution_count": 35,
   "metadata": {},
   "outputs": [],
   "source": [
    "l = [-1, 2, -10, 52, 3]"
   ]
  },
  {
   "cell_type": "markdown",
   "metadata": {},
   "source": [
    "With a compression list, create a list l2 which multiplies all values of l by 2 and store it in l2"
   ]
  },
  {
   "cell_type": "code",
   "execution_count": 37,
   "metadata": {},
   "outputs": [
    {
     "data": {
      "text/plain": [
       "[-2, 4, -20, 104, 6]"
      ]
     },
     "execution_count": 37,
     "metadata": {},
     "output_type": "execute_result"
    }
   ],
   "source": [
    "l2 = [ i * 2 for i in l]\n",
    "l2"
   ]
  },
  {
   "cell_type": "markdown",
   "metadata": {},
   "source": [
    "Look on the internet how to include \"ifs\" in list comprehension. Do the same as before but only if the value of l1 is positive"
   ]
  },
  {
   "cell_type": "code",
   "execution_count": 38,
   "metadata": {},
   "outputs": [
    {
     "data": {
      "text/plain": [
       "[4, 104, 6]"
      ]
     },
     "execution_count": 38,
     "metadata": {},
     "output_type": "execute_result"
    }
   ],
   "source": [
    "l3 = [ i * 2 for i in l if i > 0 ]\n",
    "l3"
   ]
  },
  {
   "cell_type": "markdown",
   "metadata": {},
   "source": [
    "## Introduction to OOP \n",
    "\n",
    "Python is a multiparadigm language and supports OOP. Create a class Person with a constructor method allowing to pass the name of the person. The life point should have default 100"
   ]
  },
  {
   "cell_type": "code",
   "execution_count": 90,
   "metadata": {},
   "outputs": [],
   "source": [
    "class Person:\n",
    "    \"\"\" Classe pour représenter une personne.\n",
    "        Cette personne possède un capital de 100 points et a un nom\n",
    "    \"\"\"\n",
    "    \n",
    "    def __init__(self, name):\n",
    "        self.name = name\n",
    "        self.point = 100\n",
    "        \n",
    "    def getName(self):\n",
    "        return self.name\n",
    "        \n",
    "    def getPoint(self):\n",
    "        return self.point\n",
    "    \n",
    "    def setPoint(self, point):\n",
    "        self.point = point\n",
    "    \n",
    "    def hit(self, person):\n",
    "        person.setPoint(person.getPoint() - 10)\n",
    "        return print(person.getName(), 'a été attaqué par', self.name ,'et a ', person.getPoint(), 'points.')\n",
    "    \n",
    "    def is_dead(self):\n",
    "        return self.point <= 0"
   ]
  },
  {
   "cell_type": "markdown",
   "metadata": {},
   "source": [
    "Create a first person named \"john\" and 100 life point"
   ]
  },
  {
   "cell_type": "code",
   "execution_count": 91,
   "metadata": {},
   "outputs": [],
   "source": [
    "john = Person('john')"
   ]
  },
  {
   "cell_type": "markdown",
   "metadata": {},
   "source": [
    "Add a method hit(person), the person being hit should lose 10 life point"
   ]
  },
  {
   "cell_type": "code",
   "execution_count": 92,
   "metadata": {},
   "outputs": [
    {
     "name": "stdout",
     "output_type": "stream",
     "text": [
      "john a été attaqué par john et a  90 points.\n"
     ]
    }
   ],
   "source": [
    "john.hit(john)"
   ]
  },
  {
   "cell_type": "markdown",
   "metadata": {},
   "source": [
    "Create two personns and make one hit another one. Check that the life point of the person being hit has been lowered by 10"
   ]
  },
  {
   "cell_type": "code",
   "execution_count": 100,
   "metadata": {},
   "outputs": [
    {
     "name": "stdout",
     "output_type": "stream",
     "text": [
      "jerem a été attaqué par bix et a  90 points.\n"
     ]
    }
   ],
   "source": [
    "bix = Person('bix')\n",
    "jerem = Person('jerem')\n",
    "bix.hit(jerem)"
   ]
  },
  {
   "cell_type": "markdown",
   "metadata": {},
   "source": [
    "define a method is_dead() which returns True if the life point are below 0 and False otherwise"
   ]
  },
  {
   "cell_type": "code",
   "execution_count": 101,
   "metadata": {},
   "outputs": [
    {
     "data": {
      "text/plain": [
       "False"
      ]
     },
     "execution_count": 101,
     "metadata": {},
     "output_type": "execute_result"
    }
   ],
   "source": [
    "john.is_dead()"
   ]
  },
  {
   "cell_type": "markdown",
   "metadata": {},
   "source": [
    "Create a Wizard class which inherits from persons. The life point of wizard should be 80.\n",
    "\n",
    "Override the method hit(person) so that its damage are 15"
   ]
  },
  {
   "cell_type": "code",
   "execution_count": 102,
   "metadata": {},
   "outputs": [],
   "source": [
    "class Wizard(Person):\n",
    "    \n",
    "    def __init__(self, name):\n",
    "        self.point = 80\n",
    "        self.name = name\n",
    "        \n",
    "    def hit(self, person):\n",
    "        person.setPoint(person.getPoint() - 15)\n",
    "        return print(person.getName(), 'a été attaqué par', self.name ,'et a', person.getPoint(), 'points.')"
   ]
  },
  {
   "cell_type": "code",
   "execution_count": 103,
   "metadata": {},
   "outputs": [
    {
     "name": "stdout",
     "output_type": "stream",
     "text": [
      "jerem a été attaqué par harry et a  75 points.\n",
      "jerem a été attaqué par harry et a  60 points.\n",
      "jerem a été attaqué par harry et a  45 points.\n",
      "jerem a été attaqué par harry et a  30 points.\n",
      "jerem a été attaqué par harry et a  15 points.\n",
      "jerem a été attaqué par harry et a  0 points.\n"
     ]
    },
    {
     "data": {
      "text/plain": [
       "False"
      ]
     },
     "execution_count": 103,
     "metadata": {},
     "output_type": "execute_result"
    }
   ],
   "source": [
    "harry = Wizard('harry')\n",
    "\n",
    "harry.hit(jerem)\n",
    "harry.hit(jerem)\n",
    "harry.hit(jerem)\n",
    "harry.hit(jerem)\n",
    "harry.hit(jerem)\n",
    "harry.hit(jerem)\n",
    "jerem.is_dead()"
   ]
  }
 ],
 "metadata": {
  "kernelspec": {
   "display_name": "Python 3",
   "language": "python",
   "name": "python3"
  },
  "language_info": {
   "codemirror_mode": {
    "name": "ipython",
    "version": 3
   },
   "file_extension": ".py",
   "mimetype": "text/x-python",
   "name": "python",
   "nbconvert_exporter": "python",
   "pygments_lexer": "ipython3",
   "version": "3.7.1"
  }
 },
 "nbformat": 4,
 "nbformat_minor": 2
}
