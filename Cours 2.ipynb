{
 "cells": [
  {
   "cell_type": "markdown",
   "metadata": {},
   "source": [
    "# Python for Data Science - Cours 2"
   ]
  },
  {
   "cell_type": "markdown",
   "metadata": {},
   "source": [
    "## Pourquoi python ?"
   ]
  },
  {
   "cell_type": "markdown",
   "metadata": {},
   "source": [
    "* Facile\n",
    "* Outils pour les datasciences\n",
    "    * Numpy\n",
    "    * Matplotlib \n",
    "    * Pandas \n",
    "    * Scikit learn : ML \n",
    "    * Pyspark : big data\n",
    "* Typés dynamiquement \n",
    "* Procédural "
   ]
  },
  {
   "cell_type": "markdown",
   "metadata": {},
   "source": [
    "**ML** = Apprendre des règles depuis des données"
   ]
  },
  {
   "cell_type": "markdown",
   "metadata": {},
   "source": [
    "## Deux champs d'apprentissage du ML "
   ]
  },
  {
   "cell_type": "markdown",
   "metadata": {},
   "source": [
    "<font size=\"+1\" color=\"BLUE\">1. Classification</font>\n",
    "\n",
    "Predire des variables discretes.\n",
    "\n",
    "<font color=\"GREEN\">exemple : </font>X(i), the feature of the problem\n",
    "\n",
    "X(i) : 0 ? 1 ? 2 ? ..... => Y \n",
    "Target variable label\n",
    "\n",
    "<font size=\"+1\" color=\"BLUE\">2. Regression</font>\n",
    "\n",
    "Predire une variable continue (numérique).\n",
    "\n",
    "<font color=\"GREEN\">exemple : </font> Predire le prix d'une maison dépendamment des features"
   ]
  },
  {
   "cell_type": "markdown",
   "metadata": {},
   "source": [
    "#### Trouver deux exemples de regression/classification"
   ]
  },
  {
   "cell_type": "markdown",
   "metadata": {},
   "source": [
    "| Regression | Classification\n",
    "| --- | --- |\n",
    "| Prix d'une maison = f(size, nb_room, city...) | Type des films = f(titre, description, actors) |\n",
    "| Temperature global = f(CO2, sunlight) | effet d'une molecule (1 = effective, 0 = not effective) |\n",
    "| Demography | Fonctionnement d'une machine (0 = pas cassé, 1 = cassé) |\n",
    "| Turn over | _ |"
   ]
  },
  {
   "cell_type": "markdown",
   "metadata": {},
   "source": [
    "#### <font color=\"BLUE\"> 2.1 Regression linéaire</font>\n"
   ]
  },
  {
   "cell_type": "markdown",
   "metadata": {},
   "source": [
    "**But** : trouver une fonction qui est la plus proche du dataset (minimiser la distance moyenne entre les points et une fonction et trouver les bons $\\theta$<sub>0</sub> , $\\theta$<sub>1</sub>... qui sont compatibles avec les données.\n",
    "\n",
    "=> Pour ca il faut trouver le min J<sub>$\\theta$</sub>.\n",
    "\n",
    "Pour trouver le $\\min$, il faut caluler le **Gradient descendant**. Le GD est un algorithme.  \n",
    "Gradient = vecteur d'une dérivée partiel d'une fonction (variable multiple). Direction vers laquelle tu as à déplacer l'entrée de la fonction pour l'améliorer le plus possible.\n",
    "\n",
    "<font color=\"RED\">Etape 0</font> :  initialiser aléatoirement $\\theta$<sub>0</sub> , $\\theta$<sub>1</sub>\n",
    "\n",
    "\n",
    "<font color=\"RED\">Etape 1</font> : LOOP.  \n",
    "Pour chaque exemple, calculer la prediction de f<sub>$\\theta$</sub>(X<sup>(i)</sup>) = Y<sup>(i)</sup>. Calculer le gradient de J.  \n",
    "Mettre à jour les paramètres $\\theta$.  \n",
    "$\\theta$<sup>next</sup> = $\\theta$<sup>current</sup>  - $\\alpha$ * grad J<sub>$\\theta$</sub>\n",
    "\n",
    "$\\alpha$ est le taux d'apprentissage.\n",
    "\n",
    "<font color='green'>exemple:</font>: ^y = f(x) = $\\theta$<sub>0</sub> + $\\theta$<sub>1</sub> * X<sub>1</sub> + ... + $\\theta$<sub>n</sub> * X<sub>n</sub>  \n",
    "$\\theta$ = parametres"
   ]
  },
  {
   "cell_type": "code",
   "execution_count": 8,
   "metadata": {},
   "outputs": [
    {
     "data": {
      "image/png": "[encoded data removed]",
      "text/plain": [
       "<Figure size 432x288 with 1 Axes>"
      ]
     },
     "metadata": {
      "needs_background": "light"
     },
     "output_type": "display_data"
    }
   ],
   "source": [
    "import matplotlib.pyplot as plt\n",
    "plt.plot([0, 1, 2])\n",
    "plt.plot([0.5, 1, 1.5])\n",
    "plt.show()"
   ]
  },
  {
   "cell_type": "markdown",
   "metadata": {},
   "source": [
    "**Notation 2D** \n",
    "\n",
    "table = mes données, 1 ligne = 1 exemple, 1 colone = 1 variable\n",
    "\n",
    "X = Maison 1, Maison 2, Maison 3\n",
    "\n",
    "X<sup>i</sup> = ligne i, X<sub>i</sub> = colone i"
   ]
  },
  {
   "cell_type": "markdown",
   "metadata": {},
   "source": [
    "Pour calculer la marge d'erreur entre la courbe actuelle et celle qu'on a calculé, on utilise le **MSE ( Mesure Symbol Error)**.\n",
    "\n",
    "MSE = $\\frac{1}{m}$ $\\times$ ( $\\delta$<sup>1</sup> + $\\delta$<sup>2</sup> + ... + $\\delta$<sup>m</sup>) \n"
   ]
  },
  {
   "cell_type": "markdown",
   "metadata": {},
   "source": [
    "______"
   ]
  },
  {
   "cell_type": "markdown",
   "metadata": {},
   "source": [
    "<font color=\"GREEN\">Exercice : </font>\n",
    "f(x) = x<sup>2</sup> - 2x + 1. Calculer f'(x). \n",
    "\n",
    "pour x = 2  $\\to$ f'(x) = 2x - 2 donc  f'(2) = 2.\n",
    "\n",
    "Calculer f(x), f(x + 0.1 * f'(x)) et f(x - 0.1 * f'(x))\n",
    "\n",
    "pour x = 2 $\\to$ f(x + 0.1 * f'(x)) = 1,44 et f(x - 0.1 * f'(x)) = 0,64"
   ]
  },
  {
   "cell_type": "markdown",
   "metadata": {},
   "source": [
    "<font color='blue'>Récap TP:</font> \n",
    "\n",
    "* Data Science: \n",
    "              * Analyse (Data analyst, BI)\n",
    "              * Processing/Storage (Data engineering)\n",
    "              * Prediction (ML, datascience)\n",
    "* Python:\n",
    "              * Langage basic\n",
    "              * Numpy (vectorisation)\n",
    "              * Matplotlib\n",
    "              * Pandas (manipulé and process tabular data)\n",
    "              \n",
    "Model = fonction prédictive  \n",
    "X feature/predicting variable -> f -> prediction/target variable\n",
    "\n",
    "**Logistic Regression**:\n",
    "\n",
    "When you \"fit\" to find the parameters of Log.Reg  you do not minimise the MSE with gradient descente. You minimise <font color='red'>croos entropy loss</font>"
   ]
  },
  {
   "cell_type": "markdown",
   "metadata": {},
   "source": [
    "\"Linear Regression + sigmoid function\" for classification\n",
    "\n",
    "signoid(x) = $\\theta$(x) = $\\frac{1}{1+ e^x}$"
   ]
  },
  {
   "cell_type": "markdown",
   "metadata": {},
   "source": [
    "**Cross entropy loss / Binary cross entropy loss**\n",
    "\n",
    "Rq: Loss function measure difference between prediction and \"Label\".\n",
    "\n",
    "L = $\\frac{1}{nb Ex}$ $\\sum_{i=0}^{nb}$ y<sub>i</sub> $\\log$ ^y<sub>i</sub> + (1 - y<sub>i</sub>) $\\log$(1 - y<sub>i</sub>)\n",
    "\n"
   ]
  },
  {
   "cell_type": "markdown",
   "metadata": {},
   "source": [
    "**Metrics**: R<sup>2</sup> : coefficient of determination\n",
    "\n",
    "Log.Reg(Classification):\n",
    "* Accuracy  \n",
    "rate/ percentage of good predictions. <font color='red'> It is a trap when data is imbalanced.</font>\n",
    "* Precision/Recall\n",
    "Data X -> Label = 0  \n",
    "model f(x) = 1 -> False positive model (The model tells you have cancer (^y=1) but you have (y=0)  \n",
    "Confusion matrix avec True Nagetive, True Positive, False Positive, False Negative.  \n",
    "\n",
    "<font color='red'>Recall :</font> its the proportion of the class the model identified.  \n",
    "$\\frac{TP}{TP + FN}$\n",
    "\n",
    "<font color='red'>Prediction :</font> error percentage when a prediction on a class.  \n",
    "$\\frac{TP}{TP + FP}$  \n",
    "\n",
    "f1 harmonics = $\\frac{2 * Precision * Recall}{Precision + Recall}$\n",
    "\n",
    "<font color='red'>/!\\ Metrics on both train and test.</font>\n",
    "* F1 score\n",
    "* AUC"
   ]
  },
  {
   "cell_type": "code",
   "execution_count": null,
   "metadata": {},
   "outputs": [],
   "source": []
  }
 ],
 "metadata": {
  "kernelspec": {
   "display_name": "Python 3",
   "language": "python",
   "name": "python3"
  },
  "language_info": {
   "codemirror_mode": {
    "name": "ipython",
    "version": 3
   },
   "file_extension": ".py",
   "mimetype": "text/x-python",
   "name": "python",
   "nbconvert_exporter": "python",
   "pygments_lexer": "ipython3",
   "version": "3.7.1"
  }
 },
 "nbformat": 4,
 "nbformat_minor": 2
}
