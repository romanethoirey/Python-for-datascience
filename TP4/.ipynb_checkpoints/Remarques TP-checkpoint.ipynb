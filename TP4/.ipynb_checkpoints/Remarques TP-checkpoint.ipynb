{
 "cells": [
  {
   "cell_type": "markdown",
   "metadata": {},
   "source": [
    "## TP 4\n",
    "\n",
    "Unsupervised learning (no label) :\n",
    "\n",
    "* Clustering : Kmeans, Spectral clustering, Dbscan \n",
    "* Dimensionnality Reduction (PCA/Autoencoders)\n",
    "    * Tsne and Umap\n",
    "\n",
    "K-mean -> you have to choose the number of clusters"
   ]
  }
 ],
 "metadata": {
  "kernelspec": {
   "display_name": "Python 3",
   "language": "python",
   "name": "python3"
  },
  "language_info": {
   "codemirror_mode": {
    "name": "ipython",
    "version": 3
   },
   "file_extension": ".py",
   "mimetype": "text/x-python",
   "name": "python",
   "nbconvert_exporter": "python",
   "pygments_lexer": "ipython3",
   "version": "3.7.1"
  }
 },
 "nbformat": 4,
 "nbformat_minor": 2
}
