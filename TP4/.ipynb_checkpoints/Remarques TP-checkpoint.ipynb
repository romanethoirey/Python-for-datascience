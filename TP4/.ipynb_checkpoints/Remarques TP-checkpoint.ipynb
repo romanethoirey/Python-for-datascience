{
 "cells": [
  {
   "cell_type": "markdown",
   "metadata": {},
   "source": [
    "## TP 4\n",
    "\n",
    "**Unsupervised learning (no label)**:\n",
    "\n",
    "* Clustering : Kmeans, Spectral clustering, Dbscan \n",
    "* Dimensionnality Reduction (PCA/Autoencoders)\n",
    "    * Tsne and Umap (plot data in 2D)\n",
    "\n",
    "K-mean -> you have to choose the number of clusters\n",
    "\n",
    "**Ensembling** : combine several models to improve the final performance.  \n",
    "\"Wisdom of the crowd\". Random Forest = Ensembling of Desicion Tree.\n",
    "\n",
    "3 types of ensembling (mainly):\n",
    "1. Bagging -> Random forest\n",
    "2. Bosting -> Xg boost, lightGBM\n",
    "3. Stacking\n",
    "\n",
    "<font color='blue'>Bagging</font> : def sampling without remplacing = national lotery  \n",
    "you have a dataset D = (X,Y)  \n",
    "<font color='red'>Step 1</font>: generate datasets by doing Sampling with replacing  \n",
    "<font color='red'>Step 2</font>: Train models on each dataset  \n",
    "<font color='red'>Step 3</font>: combine the predictions.   \n",
    "Comment  ?   \n",
    "=> regression ->   average  \n",
    "=> classification -> majority voting\n",
    "\n",
    "<font color='blue'>Boosting</font>:  \n",
    "<font color='red'>Step 1</font>: Train the model on D  \n",
    "<font color='red'>Step 2</font>: Train a second model and make it pay more attention to the exemple where M<sub>1</sub> failed.  \n",
    "ect...\n",
    "\n",
    "<font color='blue'>Stacking</font>:  \n",
    "Train n models M<sub>1</sub>, M<sub>2</sub>..., M<sub>n</sub>. Combine prédictions by training a model M<sub>stack</sub> which combines M<sub>1</sub>,  M<sub>2</sub>..., M<sub>n</sub>.  \n",
    "M<sub>stack</sub> will use the predictions of M<sub>1</sub>,  M<sub>2</sub>..., M<sub>n</sub> as features."
   ]
  }
 ],
 "metadata": {
  "kernelspec": {
   "display_name": "Python 3",
   "language": "python",
   "name": "python3"
  },
  "language_info": {
   "codemirror_mode": {
    "name": "ipython",
    "version": 3
   },
   "file_extension": ".py",
   "mimetype": "text/x-python",
   "name": "python",
   "nbconvert_exporter": "python",
   "pygments_lexer": "ipython3",
   "version": "3.7.1"
  }
 },
 "nbformat": 4,
 "nbformat_minor": 2
}
