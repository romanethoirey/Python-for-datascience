{
 "cells": [
  {
   "cell_type": "markdown",
   "metadata": {},
   "source": [
    "# Manipulating Json"
   ]
  },
  {
   "cell_type": "markdown",
   "metadata": {},
   "source": [
    "Create a dictionnary with some user informatoins : firstname, lastname, age and adresse. The adress will also be a dictionnary with fields : city, zipcode, street"
   ]
  },
  {
   "cell_type": "code",
   "execution_count": 7,
   "metadata": {},
   "outputs": [],
   "source": [
    "person = {'firstname': 'Emma', 'lastname': 'Carena', 'age': 12, 'adresse': {'city': 'Paris', 'zipcode': 12345, 'street': '123 rue du Paradis'}}"
   ]
  },
  {
   "cell_type": "markdown",
   "metadata": {},
   "source": [
    "Serialization : Import the json package, and search the method to be used to convert the dictionnary to a json string. Print it"
   ]
  },
  {
   "cell_type": "code",
   "execution_count": 5,
   "metadata": {},
   "outputs": [
    {
     "name": "stdout",
     "output_type": "stream",
     "text": [
      "{\"firstname\": \"Emma\", \"lastname\": \"Carena\", \"age\": 12, \"adresse\": {\"city\": \"Paris\", \"zipcode\": 12345, \"street\": \"123 rue du Paradis\"}}\n"
     ]
    }
   ],
   "source": [
    "import json\n",
    "print(json.dumps(person))"
   ]
  },
  {
   "cell_type": "markdown",
   "metadata": {},
   "source": [
    "Deserialization : With the json library, convert the varaible **a** to a dictionnary"
   ]
  },
  {
   "cell_type": "code",
   "execution_count": 13,
   "metadata": {},
   "outputs": [
    {
     "name": "stdout",
     "output_type": "stream",
     "text": [
      "{\"lastname\": \"doe\", \"address\": {\"zipcode\": \"13100\", \"street\": \"rue de la caille de la muerte\", \"city\": \"Aix-En-Provence\"}, \"age\": 22, \"firstname\": \"john\"}\n"
     ]
    },
    {
     "data": {
      "text/plain": [
       "{'lastname': 'doe',\n",
       " 'address': {'zipcode': '13100',\n",
       "  'street': 'rue de la caille de la muerte',\n",
       "  'city': 'Aix-En-Provence'},\n",
       " 'age': 22,\n",
       " 'firstname': 'john'}"
      ]
     },
     "execution_count": 13,
     "metadata": {},
     "output_type": "execute_result"
    }
   ],
   "source": [
    "a = '{\"lastname\": \"doe\", \"address\": {\"zipcode\": \"13100\", \"street\": \"rue de la caille de la muerte\", \"city\": \"Aix-En-Provence\"}, \"age\": 22, \"firstname\": \"john\"}'\n",
    "print(a)\n",
    "json.loads(a)\n"
   ]
  },
  {
   "cell_type": "markdown",
   "metadata": {},
   "source": [
    "# Manipulating Yaml\n",
    "\n",
    "Create a yaml file with the same information as the first dictonnary in a file called user_info.yaml. With the yaml package import it in python into a dictionnary."
   ]
  },
  {
   "cell_type": "code",
   "execution_count": 2,
   "metadata": {},
   "outputs": [
    {
     "name": "stdout",
     "output_type": "stream",
     "text": [
      "{'books': 23, 'chairs': 12, 'coins': 5, 'pens': 6, 'raincoat': 3, 'spectacles': 2}\n"
     ]
    }
   ],
   "source": [
    "import yaml\n",
    "\n",
    "with open('user_info.yaml', 'r') as f:\n",
    "    data = yaml.load(f)\n",
    "    print(data)"
   ]
  },
  {
   "cell_type": "markdown",
   "metadata": {},
   "source": [
    "Modify the first name and save the dictionnary to the file user_info_updated.yaml"
   ]
  },
  {
   "cell_type": "code",
   "execution_count": 18,
   "metadata": {},
   "outputs": [],
   "source": [
    "data['raincoat'] = 3 # c'est pas bien de copier\n",
    "with open('user_info.yaml', 'w') as outfile:\n",
    "    yaml.dump(data, outfile)"
   ]
  }
 ],
 "metadata": {
  "kernelspec": {
   "display_name": "Python 3",
   "language": "python",
   "name": "python3"
  },
  "language_info": {
   "codemirror_mode": {
    "name": "ipython",
    "version": 3
   },
   "file_extension": ".py",
   "mimetype": "text/x-python",
   "name": "python",
   "nbconvert_exporter": "python",
   "pygments_lexer": "ipython3",
   "version": "3.7.1"
  }
 },
 "nbformat": 4,
 "nbformat_minor": 2
}
