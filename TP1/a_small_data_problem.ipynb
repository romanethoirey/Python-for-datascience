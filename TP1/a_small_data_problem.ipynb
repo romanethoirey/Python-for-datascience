{
 "cells": [
  {
   "cell_type": "markdown",
   "metadata": {},
   "source": [
    "You are hired by a company which already has a python application. \n",
    "You are asked to compute the average time spent by user on the applications.\n",
    "Unfortunatly there is no sql database and the only function available return the data in the followin format : \n",
    "A list of dictionnaries. \n",
    "\n",
    "\n",
    "\n",
    "```python\n",
    "    [\n",
    "        { \n",
    "           'username': \"John Malkovitch\",\n",
    "            'email': \"john@movie.net\",\n",
    "            'time_spent_online': 20000000\n",
    "        },\n",
    "    \n",
    "        {\n",
    "    \n",
    "            'username': \"Minsc\",\n",
    "            'email': \"myswordisforyou@lala.fr,\n",
    "            'time_spent_online': 2343434\n",
    "        }\n",
    "    ]\n",
    "```\n",
    "\n",
    "The field  \"time_spent_online\" is expressed in seconds \n",
    "\n",
    "Code a function called **average_time_spent_online(users_information)** which takes as an arguement a list of dictionnaries in the shape a above and output the average time spent by all users. **Express it in minutes**\n"
   ]
  },
  {
   "cell_type": "code",
   "execution_count": 1,
   "metadata": {},
   "outputs": [],
   "source": [
    "def average_time_spent_online(users_information):\n",
    "    average_time = []\n",
    "    for username in users_information: \n",
    "        average_time.append(username['time_spent_online'] / 60)\n",
    "    return average_time"
   ]
  },
  {
   "cell_type": "markdown",
   "metadata": {},
   "source": [
    "Test your function on the above list. "
   ]
  },
  {
   "cell_type": "code",
   "execution_count": 2,
   "metadata": {},
   "outputs": [
    {
     "data": {
      "text/plain": [
       "[333333.3333333333, 39057.23333333333]"
      ]
     },
     "execution_count": 2,
     "metadata": {},
     "output_type": "execute_result"
    }
   ],
   "source": [
    "users_information = [{ 'username': \"John Malkovitch\",'email': \"john@movie.net\",'time_spent_online': 20000000},{'username': \"Minsc\",'email': \"myswordisforyou@lala.fr\",'time_spent_online': 2343434}]\n",
    "average_time_spent_online(users_information)"
   ]
  },
  {
   "cell_type": "markdown",
   "metadata": {},
   "source": [
    "Pandas allows to load data from list of dictionnaries. Find the method allowing to do that. Convert the list into a dataframe and display it"
   ]
  },
  {
   "cell_type": "code",
   "execution_count": 5,
   "metadata": {},
   "outputs": [
    {
     "data": {
      "text/html": [
       "<div>\n",
       "<style scoped>\n",
       "    .dataframe tbody tr th:only-of-type {\n",
       "        vertical-align: middle;\n",
       "    }\n",
       "\n",
       "    .dataframe tbody tr th {\n",
       "        vertical-align: top;\n",
       "    }\n",
       "\n",
       "    .dataframe thead th {\n",
       "        text-align: right;\n",
       "    }\n",
       "</style>\n",
       "<table border=\"1\" class=\"dataframe\">\n",
       "  <thead>\n",
       "    <tr style=\"text-align: right;\">\n",
       "      <th></th>\n",
       "      <th>email</th>\n",
       "      <th>time_spent_online</th>\n",
       "      <th>username</th>\n",
       "    </tr>\n",
       "  </thead>\n",
       "  <tbody>\n",
       "    <tr>\n",
       "      <th>0</th>\n",
       "      <td>john@movie.net</td>\n",
       "      <td>20000000</td>\n",
       "      <td>John Malkovitch</td>\n",
       "    </tr>\n",
       "    <tr>\n",
       "      <th>1</th>\n",
       "      <td>myswordisforyou@lala.fr</td>\n",
       "      <td>2343434</td>\n",
       "      <td>Minsc</td>\n",
       "    </tr>\n",
       "  </tbody>\n",
       "</table>\n",
       "</div>"
      ],
      "text/plain": [
       "                     email  time_spent_online         username\n",
       "0           john@movie.net           20000000  John Malkovitch\n",
       "1  myswordisforyou@lala.fr            2343434            Minsc"
      ]
     },
     "execution_count": 5,
     "metadata": {},
     "output_type": "execute_result"
    }
   ],
   "source": [
    "import pandas as pd\n",
    "\n",
    "users_information_df = pd.DataFrame(users_information)\n",
    "users_information_df"
   ]
  }
 ],
 "metadata": {
  "kernelspec": {
   "display_name": "Python 3",
   "language": "python",
   "name": "python3"
  },
  "language_info": {
   "codemirror_mode": {
    "name": "ipython",
    "version": 3
   },
   "file_extension": ".py",
   "mimetype": "text/x-python",
   "name": "python",
   "nbconvert_exporter": "python",
   "pygments_lexer": "ipython3",
   "version": "3.7.1"
  }
 },
 "nbformat": 4,
 "nbformat_minor": 2
}
